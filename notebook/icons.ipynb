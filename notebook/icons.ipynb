{
 "cells": [
  {
   "cell_type": "code",
   "execution_count": 0,
   "metadata": {
    "tags": []
   },
   "outputs": [],
   "source": [
    "import gum as g"
   ]
  },
  {
   "cell_type": "code",
   "execution_count": 0,
   "metadata": {},
   "outputs": [],
   "source": [
    "%config InlineBackend.figure_format = 'svg'"
   ]
  },
  {
   "cell_type": "markdown",
   "metadata": {
    "tags": []
   },
   "source": [
    "## Logo"
   ]
  },
  {
   "cell_type": "code",
   "execution_count": 0,
   "metadata": {},
   "outputs": [],
   "source": [
    "font = 'STIX'\n",
    "fgcol = '#222'\n",
    "bgcol = '#BBB'\n",
    "size = 100\n",
    "\n",
    "ell = g.Text('ℓ', font_family=font, fill=fgcol, stroke=fgcol)\n",
    "two = g.Text('2', font_family=font, fill=fgcol, stroke=fgcol)\n",
    "ell2 = g.HStack([ell, g.VStack({two: 0.4}, expand=False)])\n",
    "\n",
    "logo = g.Frame(\n",
    "    ell2, padding=0.08, margin=0.03, aspect=1, border=size/20,\n",
    "    rect_rx=size/5, rect_fill=bgcol, rect_stroke=fgcol\n",
    ")\n",
    "\n",
    "logo"
   ]
  },
  {
   "cell_type": "markdown",
   "metadata": {
    "tags": []
   },
   "source": [
    "## Control"
   ]
  },
  {
   "cell_type": "code",
   "execution_count": 0,
   "metadata": {},
   "outputs": [],
   "source": [
    "arrow_height = 0.5\n",
    "arrow_width = 0.35\n",
    "shaft_width = 30\n",
    "line = g.Frame(g.VLine(stroke_width=shaft_width), padding=(0, 0.1, 0, 0))\n",
    "head = g.Polygon([\n",
    "    (0.5, 0),\n",
    "    (0.5+arrow_width, arrow_height),\n",
    "    (0.5-arrow_width, arrow_height),\n",
    "], fill='black')\n",
    "arrow = g.SVG([line, head])\n",
    "print(arrow.svg())\n",
    "arrow"
   ]
  },
  {
   "cell_type": "code",
   "execution_count": 0,
   "metadata": {},
   "outputs": [],
   "source": [
    "arrow_height = 0.5\n",
    "arrow_width = 0.35\n",
    "shaft_width = 30\n",
    "line = g.Frame(g.VLine(stroke_width=shaft_width), padding=(0, 0, 0, 0.1))\n",
    "head = g.Polygon([\n",
    "    (0.5, 1),\n",
    "    (0.5+arrow_width, 1-arrow_height),\n",
    "    (0.5-arrow_width, 1-arrow_height),\n",
    "], fill='black')\n",
    "arrow = g.SVG([line, head])\n",
    "print(arrow.svg())\n",
    "arrow"
   ]
  },
  {
   "cell_type": "code",
   "execution_count": 0,
   "metadata": {},
   "outputs": [],
   "source": [
    "ex0 = g.Ray(-45, stroke_width=40)\n",
    "ex1 = g.Ray(45, stroke_width=40)\n",
    "ex = g.Frame(ex0 + ex1, padding=0.2)\n",
    "out = g.SVG(ex)\n",
    "print(out.svg())\n",
    "out"
   ]
  },
  {
   "cell_type": "code",
   "execution_count": 0,
   "metadata": {},
   "outputs": [],
   "source": []
  }
 ],
 "metadata": {
  "kernelspec": {
   "display_name": "Python 3.9",
   "language": "python",
   "name": "python3.9"
  },
  "language_info": {
   "codemirror_mode": {
    "name": "ipython",
    "version": 3
   },
   "file_extension": ".py",
   "mimetype": "text/x-python",
   "name": "python",
   "nbconvert_exporter": "python",
   "pygments_lexer": "ipython3",
   "version": "3.9.7"
  }
 },
 "nbformat": 4,
 "nbformat_minor": 4
}