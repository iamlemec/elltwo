{
 "cells": [
  {
   "cell_type": "code",
   "execution_count": 0,
   "metadata": {
    "tags": []
   },
   "outputs": [],
   "source": [
    "import gum as g"
   ]
  },
  {
   "cell_type": "code",
   "execution_count": 0,
   "metadata": {},
   "outputs": [],
   "source": [
    "%config InlineBackend.figure_format = 'svg'"
   ]
  },
  {
   "cell_type": "markdown",
   "metadata": {
    "tags": []
   },
   "source": [
    "## Logo"
   ]
  },
  {
   "cell_type": "code",
   "execution_count": 0,
   "metadata": {},
   "outputs": [],
   "source": [
    "font = 'STIX'\n",
    "fgcol = '#222'\n",
    "bgcol = '#BBB'\n",
    "size = 100\n",
    "\n",
    "ell = g.Text('ℓ', font_family=font, fill=fgcol, stroke=fgcol)\n",
    "two = g.Text('2', font_family=font, fill=fgcol, stroke=fgcol)\n",
    "ell2 = g.HStack([ell, g.VStack({two: 0.4}, expand=False)])\n",
    "\n",
    "logo = g.Frame(\n",
    "    ell2, padding=0.08, margin=0.03, aspect=1, border=size/20,\n",
    "    rect_rx=size/5, rect_fill=bgcol, rect_stroke=fgcol\n",
    ")\n",
    "\n",
    "logo"
   ]
  },
  {
   "cell_type": "markdown",
   "metadata": {
    "tags": []
   },
   "source": [
    "## Control"
   ]
  },
  {
   "cell_type": "code",
   "execution_count": 0,
   "metadata": {},
   "outputs": [],
   "source": []
  }
 ],
 "metadata": {
  "kernelspec": {
   "display_name": "Python 3.9",
   "language": "python",
   "name": "python3.9"
  },
  "language_info": {
   "codemirror_mode": {
    "name": "ipython",
    "version": 3
   },
   "file_extension": ".py",
   "mimetype": "text/x-python",
   "name": "python",
   "nbconvert_exporter": "python",
   "pygments_lexer": "ipython3",
   "version": "3.9.7"
  }
 },
 "nbformat": 4,
 "nbformat_minor": 4
}